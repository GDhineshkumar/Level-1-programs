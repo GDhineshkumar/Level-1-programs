#!/usr/bin/env python
# coding: utf-8

# In[1]:


# Displaying Hello World in output screen
print("Hello World")


# In[1]:


# Addition of two numbers
# Getting input from user
a=int(input("Enter the value of a:"))
b=int(input("Enter the value of b:"))
print("Addition of two numbers:",a+b)


# In[3]:


# Swapping two variables without temp variable
# Getting input from user
a=int(input("Enter the value of a:"))
b=int(input("Enter the value of b:"))
# Swapping operation 
a=a+b
b=a-b
a=a-b
print("Value of a after swapping:",a)
print("Value of b after swapping:",b)


# In[8]:


# Convert the entered kilometres into miles
Conversion_factor=0.0621371
# Getting the kilometre as input
a=int(input("Enter the kilometres:"))
b=a*Conversion_factor
print("After conversion of kilometres into miles:",b)


# In[4]:


# Checking whether the number is positive,negative or 0
# Getting input from user
a=int(input("Enter the value of a:"))
# Using if elif condition
if(a<0):
    print("a is negative")
elif(a==0):
    print("a is equal to zero")
else:
    print("a is negative")


# In[10]:


# Checking whether leap year or not
# Getting input from user
year=int(input("Enter the year:"))
# Using if else condition
if(year%4==0 and year%100!=0) or (year%400==0):
    print(year,"It is a leap year")
else:
    print(year,"It is not a leap year")


# In[4]:


# Prime numbers between given range
# Getting input from user
m=int(input("Enter the starting value:"))
n=int(input("Enter the ending value:"))
for i in range(m,n):
    c=0
    for j in range(1,i):
        if i%j==0:
            c=c+1
    if(c==1):
        print(i)


# In[5]:


# Fionacci Series upto nth term
# Getting input from user
p=0
q=1
num=int(input("Enter the range:"))
print("Fibonacci series:",p,q,end=" ")
for i in range(2,num):
    r=p+q
    p=q
    q=r
    print(r,end=" ")
print()


# In[16]:


# Checking Armstrog Number or not
# Getting input from user
num=int(input("Enter a number:"))
sum=0
temp=num
while temp>0:
    b=temp%10
    sum += b**3
    temp//=10
if num == sum:
    print(num,"Armstrong number")
else:
    print(num,"Not an Armstrong number")


# In[1]:


# Sum of n natural numbers
# Getting input from user
num=int(input("Enter a number:"))
if(num<0):
    print("Enter a positive number")
else:
    sum=0
    while(num>0):
        sum+=num
        num -=1
    print("Sum of natural numbers:",sum)


# In[2]:


# Display the following pattern
a=int(input("Enter the number of lines:"))
for i in range(1,a+1):
    print("*"*i)


# In[3]:


# Remove characters from a string from zero to n and return a new string
str1 = "Python Programs"
print("Initial string:",str1)
n = int(input("Enter the number of characters to remove:"))
str2 = ''
for i in range(0,len(str1)):
    if i >=n:
        str2 +=str1[i]
print("Resultant string:",str2)


# In[6]:


# Iterate the list which are divisible by 5
list1 = [12,35,78,67,65,90,100,655]
for x in list1:
    if x%5 ==0:
        print(x)


# In[7]:


# Program to count number of times "hi" in given string
str1 = "hibuddyhi hinumerics hellohi minehi nhi"
n= str1.count("hi")
print(n)


# In[8]:


# Printing the following pattern
for x in range(1,6):
    for y in range(1,x+1):
        print(x,end= " ")
    print("\n")


# In[1]:


# Program to find a number palindrome or not
# Getting input from user
num=int(input("Enter a number:"))
temp=num
reverse =0
while temp > 0:
    remainder = temp % 10
    reverse = (reverse * 10)+ remainder
    temp= temp//10
if num == reverse:
    print("Palindrome")
else:
    print("Not palindrome")


# In[2]:


# Program to interchange first and last element in a list
list1 = [45,3,21,66,90,67,43]
print("Initial List:",list1)
if len(list1) >= 2:
    list1[0],list1[-1]=list1[-1],list1[0]
print("List after interchanging first and last element:",list1)


# In[3]:


# Program to swap two elements in a list
def swappositions(list,pos1,pos2):
    element1=list.pop(pos1)
    element2=list.pop(pos2-1)
    list.insert(pos1,element2)
    list.insert(pos2,element1)
    return list
List=[56,12,98,43]
pos1,pos2 = 2,4
print(swappositions(List,pos1-1,pos2-1))


# In[4]:


# Program / Ways to find length of list
List=[12,78,65,43,90,89]
n=len(List)
print(n)


# In[5]:


# Maximum of two numbers in a list
List=[67,89]
print(max(List))


# In[6]:


# Minimum of two numbers in a list
List=[67,78]
print(min(List))


# In[7]:


# Program to check whether the string is Symmetrical or Palindrome
def is_symmetrical(string):
    length = len(string)
    for i in range(length // 2):
        if string[i] != string[length -i -1]:
            return False
    return True
def is_palindrome(string):
    string = string.lower().replace(" ","")
    return is_symmetrical(string)
string1 = input("Enter a string: ")
if is_palindrome(string1):
    print("String is palindrome")
else:
    print("String is not a palindrome")


# In[8]:


# Program to reverse a string
str = "Dhinesh"
print(str[::-1])


# In[9]:


# Program to remove i'th character in a string
string=input("Enter the word:")
i= int(input("Enter the pos of character to remove:"))
s=string[i]
string1=string.replace(s,'')
print(string1)


# In[10]:


# Program to find the length of string
str=input("Enter a string:")
print(len(str))


# In[12]:


# Program to print even letters in a string
str=input("Enter a string:")
print(str[::2])


# In[13]:


# Program to find the size of the tuple
tuple=(1,2,3,4,5,6,7,8,9,10)
n= len(tuple)
print("Length of the tuple is :",n)


# In[7]:


a=
print(a)


# In[14]:


# Program to find minimum and maximum element in a tuple
tuple=(1,2,3,4,5,6,7,8,9,10)
a=max(tuple)
b=min(tuple)
print("Maximum element :",a)
print("Minimum element :",b)


# In[15]:


# Program sum of tuple
tuple=(1,2,3,4,5,6,7,8,9,10)
sum = 0
for i in tuple:
    sum+= i
print("Sum of tuple elements:",sum)


# In[16]:


# Program for row wise element addition in tuple matrix
var=10
for i in range(10):
    for j in range(2,10,1):
        if var%2==0:
            continue
            var+=1
            var+=1
        else:
            var+=1
print(var)


# In[20]:


# Create a list of tuples from given list having numbet and its cube in each tuple
def create_tuples(numbers):
    tuples = [(num, num ** 3) for num in numbers]
    return tuples
list = [1,2,3,4,5]
result = create_tuples(list)
print(result)


# In[1]:


Dict = {'ram': 24, 'raj': 46,'ravi': 36, 'raja': 27, 'raju': 45}
K= list(Dict.keys())
K.sort()
sdict={i: Dict[i] for i in K}
print(sdict)


# In[2]:


d= {}
a,b,c= 5, 3, 10
p,q,r= 12, 6, 9
d["x-y+z"] = [a-b+c,p-q+r]
print(d)


# In[3]:


d={'x':455,'y':223,'z':300,'p':908 }
print("Dictionary: ", d)
print("sum: ",sum(d.values()))


# In[4]:


dic1 = {"A": 1,"B": 2,"C": 3}
print("Size of dic1: ",len(dic1))


# In[5]:


s={1,2,3,4,5}
print("Size of set: ",len(s))


# In[6]:


s=set("Hello_World")
for i in s:
    print(i)


# In[7]:


s={1,2,3,4,5}
print("Maximum of the set: ",max(s))
print("Minimum of the set: ",min(s))


# In[8]:


s={1,2,3,4,5}
print("Initial list: ",s)
s.remove(5)
print("Final list: ",s)


# In[9]:


s={1,2,3,4,5}
p={5,6,7,8,9}
for i in s:
    for j in p:
        if i==j:
            print("Element common is:", i)


# In[10]:


matrix = [[1, 2, 3],
          [4, 5, 6],
          [7, 8, 9]]
print("My matrix is:")
# Assign subsequent rows to the first row elements
for i in range(1, len(matrix)):
    matrix[i] = matrix[0]

print(matrix)


# In[11]:


# Input matrices
matrix1 = [[1, 2], [3, 4]]
matrix2 = [[4, 5], [6, 7]]
 
# Printing elements of matrix1
print("Printing elements of first matrix")
for row in matrix1:
    for element in row:
        print(element, end=" ")
    print()
 
# Printing elements of matrix2
print("Printing elements of second matrix")
for row in matrix2:
    for element in row:
        print(element, end=" ")
    print()
 
# Subtracting two matrices
result = [[0, 0], [0, 0]]
for i in range(len(matrix1)):
    for j in range(len(matrix1[0])):
        result[i][j] = matrix1[i][j] - matrix2[i][j]
 
# Printing the result
print("Subtraction of two matrix")
for row in result:
    for element in row:
        print(element, end=" ")
    print()


# In[12]:


elements = [1, 2, 3, 2, 1, 3, 4, 5, 4, 5, 5]

# Count the occurrences of each element
element_counts = {}
for element in elements:
    if element in element_counts:
        element_counts[element] += 1
    else:
        element_counts[element] = 1

# Determine the dimensions of the matrix
num_rows = max(element_counts.values())
num_cols = len(element_counts)

# Create the matrix and fill it with the elements
matrix = [[None] * num_cols for _ in range(num_rows)]
for col, element in enumerate(element_counts):
    count = element_counts[element]
    for row in range(count):
        matrix[row][col] = element

# Print the resulting matrix
for row in matrix:
    print(row)


# In[13]:


matrix = ((1, 2, 3),
          (4, 5, 6),
          (7, 8, 9))

# Perform row-wise element addition
row_sums = [sum(row) for row in zip(*matrix)]

# Print the row-wise sums
print("Row-wise sums:")
for sum_value in row_sums:
    print(sum_value)


# In[14]:


def create_even_submatrix(n):
    matrix = [[0] * n for _ in range(n)]

    for i in range(n):
        for j in range(n):
            if (i + j) % 2 == 0:
                matrix[i][j] = 1

    return matrix


# Test the function
n = 4
result = create_even_submatrix(n)

# Print the resulting matrix
for row in result:
    print(row)


# In[15]:


import inspect

def my_function(guna,dinesh, kannan):
    pass

# Get the parameter names of the function
parameters = inspect.signature(my_function).parameters
parameter_names = list(parameters.keys())

# Print the parameter names
print(parameter_names)


# In[16]:


name = "John"
age = 30
city = "New York"

print(name, age, city)


# In[17]:


def power(base, exponent):
    if exponent == 0:
        return 1
    elif exponent < 0:
        return 1 / power(base, -exponent)
    else:
        return base * power(base, exponent - 1)

# Example usage
base =int(input("Enter the base: "))
exponent =int(input("Enter the power: "))
result = power(base, exponent)
print(f"{base} raised to the power of {exponent} is: {result}")


# In[18]:


class grade:
    def __init__(self, a, b):
        self.a = a
        self.b = b
  
    def __repr__(self):
        return str((self.a, self.b))
  

g= [grade("ram", 'a'),
       grade("ravi", 'b'),
       grade("raj", 'c'),
       grade("mani", 'd'),
       grade("goku", 's')]
  

print(sorted(g, key=lambda x: x.b))


# In[19]:


def print_kwargs(**kwargs):
    for key, value in kwargs.items():
        print(f"{key}: {value}")

# Example usage
print_kwargs(name="Guna", age=18, city="Keezhpaakam")

