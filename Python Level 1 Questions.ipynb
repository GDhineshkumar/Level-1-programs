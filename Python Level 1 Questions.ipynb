{
 "cells": [
  {
   "cell_type": "code",
   "execution_count": 1,
   "id": "2562a8df",
   "metadata": {},
   "outputs": [
    {
     "name": "stdout",
     "output_type": "stream",
     "text": [
      "Hello World\n"
     ]
    }
   ],
   "source": [
    "# Displaying Hello World in output screen\n",
    "print(\"Hello World\")"
   ]
  },
  {
   "cell_type": "code",
   "execution_count": 2,
   "id": "a0f15e52",
   "metadata": {},
   "outputs": [
    {
     "name": "stdout",
     "output_type": "stream",
     "text": [
      "Enter the value of a:34\n",
      "Enter the value of b:21\n",
      "Addition of two numbers: 55\n"
     ]
    }
   ],
   "source": [
    "# Addition of two numbers\n",
    "# Getting input from user\n",
    "a=int(input(\"Enter the value of a:\"))\n",
    "b=int(input(\"Enter the value of b:\"))\n",
    "print(\"Addition of two numbers:\",a+b)"
   ]
  },
  {
   "cell_type": "code",
   "execution_count": 3,
   "id": "8e42bbac",
   "metadata": {},
   "outputs": [
    {
     "name": "stdout",
     "output_type": "stream",
     "text": [
      "Enter the value of a:23\n",
      "Enter the value of b:78\n",
      "Value of a after swapping: 78\n",
      "Value of b after swapping: 23\n"
     ]
    }
   ],
   "source": [
    "# Swapping two variables without temp variable\n",
    "# Getting input from user\n",
    "a=int(input(\"Enter the value of a:\"))\n",
    "b=int(input(\"Enter the value of b:\"))\n",
    "# Swapping operation \n",
    "a=a+b\n",
    "b=a-b\n",
    "a=a-b\n",
    "print(\"Value of a after swapping:\",a)\n",
    "print(\"Value of b after swapping:\",b)"
   ]
  },
  {
   "cell_type": "code",
   "execution_count": 8,
   "id": "c9df55e4",
   "metadata": {},
   "outputs": [
    {
     "name": "stdout",
     "output_type": "stream",
     "text": [
      "Enter the kilometres:98765\n",
      "After conversion of kilometres into miles: 6136.9706815\n"
     ]
    }
   ],
   "source": [
    "# Convert the entered kilometres into miles\n",
    "Conversion_factor=0.0621371\n",
    "# Getting the kilometre as input\n",
    "a=int(input(\"Enter the kilometres:\"))\n",
    "b=a*Conversion_factor\n",
    "print(\"After conversion of kilometres into miles:\",b)"
   ]
  },
  {
   "cell_type": "code",
   "execution_count": 4,
   "id": "688b9740",
   "metadata": {},
   "outputs": [
    {
     "name": "stdout",
     "output_type": "stream",
     "text": [
      "Enter the value of a:-9\n",
      "a is negative\n"
     ]
    }
   ],
   "source": [
    "# Checking whether the number is positive,negative or 0\n",
    "# Getting input from user\n",
    "a=int(input(\"Enter the value of a:\"))\n",
    "# Using if elif condition\n",
    "if(a<0):\n",
    "    print(\"a is negative\")\n",
    "elif(a==0):\n",
    "    print(\"a is equal to zero\")\n",
    "else:\n",
    "    print(\"a is negative\")"
   ]
  },
  {
   "cell_type": "code",
   "execution_count": 10,
   "id": "471e92a9",
   "metadata": {},
   "outputs": [
    {
     "name": "stdout",
     "output_type": "stream",
     "text": [
      "Enter the year:2013\n",
      "2013 It is not a leap year\n"
     ]
    }
   ],
   "source": [
    "# Checking whether leap year or not\n",
    "# Getting input from user\n",
    "year=int(input(\"Enter the year:\"))\n",
    "# Using if else condition\n",
    "if(year%4==0 and year%100!=0) or (year%400==0):\n",
    "    print(year,\"It is a leap year\")\n",
    "else:\n",
    "    print(year,\"It is not a leap year\")"
   ]
  },
  {
   "cell_type": "code",
   "execution_count": 4,
   "id": "8db46b7b",
   "metadata": {},
   "outputs": [
    {
     "name": "stdout",
     "output_type": "stream",
     "text": [
      "Enter the starting value:4\n",
      "Enter the ending value:20\n",
      "5\n",
      "7\n",
      "11\n",
      "13\n",
      "17\n",
      "19\n"
     ]
    }
   ],
   "source": [
    "# Prime numbers between given range\n",
    "# Getting input from user\n",
    "m=int(input(\"Enter the starting value:\"))\n",
    "n=int(input(\"Enter the ending value:\"))\n",
    "for i in range(m,n):\n",
    "    c=0\n",
    "    for j in range(1,i):\n",
    "        if i%j==0:\n",
    "            c=c+1\n",
    "    if(c==1):\n",
    "        print(i)"
   ]
  },
  {
   "cell_type": "code",
   "execution_count": 5,
   "id": "f6068ddd",
   "metadata": {},
   "outputs": [
    {
     "name": "stdout",
     "output_type": "stream",
     "text": [
      "Enter the range:10\n",
      "Fibonacci series: 0 1 1 2 3 5 8 13 21 34 \n"
     ]
    }
   ],
   "source": [
    "# Fionacci Series upto nth term\n",
    "# Getting input from user\n",
    "p=0\n",
    "q=1\n",
    "num=int(input(\"Enter the range:\"))\n",
    "print(\"Fibonacci series:\",p,q,end=\" \")\n",
    "for i in range(2,num):\n",
    "    r=p+q\n",
    "    p=q\n",
    "    q=r\n",
    "    print(r,end=\" \")\n",
    "print()"
   ]
  },
  {
   "cell_type": "code",
   "execution_count": 16,
   "id": "e7856121",
   "metadata": {},
   "outputs": [
    {
     "name": "stdout",
     "output_type": "stream",
     "text": [
      "Enter a number:153\n",
      "153 Armstrong number\n"
     ]
    }
   ],
   "source": [
    "# Checking Armstrog Number or not\n",
    "# Getting input from user\n",
    "num=int(input(\"Enter a number:\"))\n",
    "sum=0\n",
    "temp=num\n",
    "while temp>0:\n",
    "    b=temp%10\n",
    "    sum += b**3\n",
    "    temp//=10\n",
    "if num == sum:\n",
    "    print(num,\"Armstrong number\")\n",
    "else:\n",
    "    print(num,\"Not an Armstrong number\")"
   ]
  },
  {
   "cell_type": "code",
   "execution_count": 1,
   "id": "ff97a1a4",
   "metadata": {},
   "outputs": [
    {
     "name": "stdout",
     "output_type": "stream",
     "text": [
      "Enter a number:7\n",
      "Sum of natural numbers: 28\n"
     ]
    }
   ],
   "source": [
    "# Sum of n natural numbers\n",
    "# Getting input from user\n",
    "num=int(input(\"Enter a number:\"))\n",
    "if(num<0):\n",
    "    print(\"Enter a positive number\")\n",
    "else:\n",
    "    sum=0\n",
    "    while(num>0):\n",
    "        sum+=num\n",
    "        num -=1\n",
    "    print(\"Sum of natural numbers:\",sum)"
   ]
  },
  {
   "cell_type": "code",
   "execution_count": 2,
   "id": "2f516a0e",
   "metadata": {},
   "outputs": [
    {
     "name": "stdout",
     "output_type": "stream",
     "text": [
      "Enter the number of lines:5\n",
      "*\n",
      "**\n",
      "***\n",
      "****\n",
      "*****\n"
     ]
    }
   ],
   "source": [
    "# Display the following pattern\n",
    "a=int(input(\"Enter the number of lines:\"))\n",
    "for i in range(1,a+1):\n",
    "    print(\"*\"*i)"
   ]
  },
  {
   "cell_type": "code",
   "execution_count": 3,
   "id": "ba24d0db",
   "metadata": {},
   "outputs": [
    {
     "name": "stdout",
     "output_type": "stream",
     "text": [
      "Initial string: Python Programs\n",
      "Enter the number of characters to remove:5\n",
      "Resultant string: n Programs\n"
     ]
    }
   ],
   "source": [
    "# Remove characters from a string from zero to n and return a new string\n",
    "str1 = \"Python Programs\"\n",
    "print(\"Initial string:\",str1)\n",
    "n = int(input(\"Enter the number of characters to remove:\"))\n",
    "str2 = ''\n",
    "for i in range(0,len(str1)):\n",
    "    if i >=n:\n",
    "        str2 +=str1[i]\n",
    "print(\"Resultant string:\",str2)"
   ]
  },
  {
   "cell_type": "code",
   "execution_count": 6,
   "id": "e54f0183",
   "metadata": {},
   "outputs": [
    {
     "name": "stdout",
     "output_type": "stream",
     "text": [
      "35\n",
      "65\n",
      "90\n",
      "100\n",
      "655\n"
     ]
    }
   ],
   "source": [
    "# Iterate the list which are divisible by 5\n",
    "list1 = [12,35,78,67,65,90,100,655]\n",
    "for x in list1:\n",
    "    if x%5 ==0:\n",
    "        print(x)"
   ]
  },
  {
   "cell_type": "code",
   "execution_count": 7,
   "id": "676cb77b",
   "metadata": {},
   "outputs": [
    {
     "name": "stdout",
     "output_type": "stream",
     "text": [
      "6\n"
     ]
    }
   ],
   "source": [
    "# Program to count number of times \"hi\" in given string\n",
    "str1 = \"hibuddyhi hinumerics hellohi minehi nhi\"\n",
    "n= str1.count(\"hi\")\n",
    "print(n)"
   ]
  },
  {
   "cell_type": "code",
   "execution_count": 8,
   "id": "86cfe808",
   "metadata": {},
   "outputs": [
    {
     "name": "stdout",
     "output_type": "stream",
     "text": [
      "1 \n",
      "\n",
      "2 2 \n",
      "\n",
      "3 3 3 \n",
      "\n",
      "4 4 4 4 \n",
      "\n",
      "5 5 5 5 5 \n",
      "\n"
     ]
    }
   ],
   "source": [
    "# Printing the following pattern\n",
    "for x in range(1,6):\n",
    "    for y in range(1,x+1):\n",
    "        print(x,end= \" \")\n",
    "    print(\"\\n\")"
   ]
  },
  {
   "cell_type": "code",
   "execution_count": 1,
   "id": "6df55bfd",
   "metadata": {},
   "outputs": [
    {
     "name": "stdout",
     "output_type": "stream",
     "text": [
      "Enter a number:47574\n",
      "Palindrome\n"
     ]
    }
   ],
   "source": [
    "# Program to find a number palindrome or not\n",
    "# Getting input from user\n",
    "num=int(input(\"Enter a number:\"))\n",
    "temp=num\n",
    "reverse =0\n",
    "while temp > 0:\n",
    "    remainder = temp % 10\n",
    "    reverse = (reverse * 10)+ remainder\n",
    "    temp= temp//10\n",
    "if num == reverse:\n",
    "    print(\"Palindrome\")\n",
    "else:\n",
    "    print(\"Not palindrome\")"
   ]
  },
  {
   "cell_type": "code",
   "execution_count": 2,
   "id": "cf5e9c25",
   "metadata": {},
   "outputs": [
    {
     "name": "stdout",
     "output_type": "stream",
     "text": [
      "Initial List: [45, 3, 21, 66, 90, 67, 43]\n",
      "List after interchanging first and last element: [43, 3, 21, 66, 90, 67, 45]\n"
     ]
    }
   ],
   "source": [
    "# Program to interchange first and last element in a list\n",
    "list1 = [45,3,21,66,90,67,43]\n",
    "print(\"Initial List:\",list1)\n",
    "if len(list1) >= 2:\n",
    "    list1[0],list1[-1]=list1[-1],list1[0]\n",
    "print(\"List after interchanging first and last element:\",list1)"
   ]
  },
  {
   "cell_type": "code",
   "execution_count": 3,
   "id": "2b2d0b87",
   "metadata": {},
   "outputs": [
    {
     "name": "stdout",
     "output_type": "stream",
     "text": [
      "[56, 43, 98, 12]\n"
     ]
    }
   ],
   "source": [
    "# Program to swap two elements in a list\n",
    "def swappositions(list,pos1,pos2):\n",
    "    element1=list.pop(pos1)\n",
    "    element2=list.pop(pos2-1)\n",
    "    list.insert(pos1,element2)\n",
    "    list.insert(pos2,element1)\n",
    "    return list\n",
    "List=[56,12,98,43]\n",
    "pos1,pos2 = 2,4\n",
    "print(swappositions(List,pos1-1,pos2-1))"
   ]
  },
  {
   "cell_type": "code",
   "execution_count": 4,
   "id": "5e6d8bd8",
   "metadata": {},
   "outputs": [
    {
     "name": "stdout",
     "output_type": "stream",
     "text": [
      "6\n"
     ]
    }
   ],
   "source": [
    "# Program / Ways to find length of list\n",
    "List=[12,78,65,43,90,89]\n",
    "n=len(List)\n",
    "print(n)"
   ]
  },
  {
   "cell_type": "code",
   "execution_count": 5,
   "id": "d2f76a6b",
   "metadata": {},
   "outputs": [
    {
     "name": "stdout",
     "output_type": "stream",
     "text": [
      "89\n"
     ]
    }
   ],
   "source": [
    "# Maximum of two numbers in a list\n",
    "List=[67,89]\n",
    "print(max(List))"
   ]
  },
  {
   "cell_type": "code",
   "execution_count": 6,
   "id": "80505ea3",
   "metadata": {},
   "outputs": [
    {
     "name": "stdout",
     "output_type": "stream",
     "text": [
      "67\n"
     ]
    }
   ],
   "source": [
    "# Minimum of two numbers in a list\n",
    "List=[67,78]\n",
    "print(min(List))"
   ]
  },
  {
   "cell_type": "code",
   "execution_count": 7,
   "id": "baba8a7d",
   "metadata": {},
   "outputs": [
    {
     "name": "stdout",
     "output_type": "stream",
     "text": [
      "Enter a string: dhinnihd\n",
      "String is palindrome\n"
     ]
    }
   ],
   "source": [
    "# Program to check whether the string is Symmetrical or Palindrome\n",
    "def is_symmetrical(string):\n",
    "    length = len(string)\n",
    "    for i in range(length // 2):\n",
    "        if string[i] != string[length -i -1]:\n",
    "            return False\n",
    "    return True\n",
    "def is_palindrome(string):\n",
    "    string = string.lower().replace(\" \",\"\")\n",
    "    return is_symmetrical(string)\n",
    "string1 = input(\"Enter a string: \")\n",
    "if is_palindrome(string1):\n",
    "    print(\"String is palindrome\")\n",
    "else:\n",
    "    print(\"String is not a palindrome\")"
   ]
  },
  {
   "cell_type": "code",
   "execution_count": 8,
   "id": "50dd1aec",
   "metadata": {},
   "outputs": [
    {
     "name": "stdout",
     "output_type": "stream",
     "text": [
      "hsenihD\n"
     ]
    }
   ],
   "source": [
    "# Program to reverse a string\n",
    "str = \"Dhinesh\"\n",
    "print(str[::-1])"
   ]
  },
  {
   "cell_type": "code",
   "execution_count": 9,
   "id": "5657bb8a",
   "metadata": {},
   "outputs": [
    {
     "name": "stdout",
     "output_type": "stream",
     "text": [
      "Enter the word:Hello\n",
      "Enter the pos of character to remove:4\n",
      "Hell\n"
     ]
    }
   ],
   "source": [
    "# Program to remove i'th character in a string\n",
    "string=input(\"Enter the word:\")\n",
    "i= int(input(\"Enter the pos of character to remove:\"))\n",
    "s=string[i]\n",
    "string1=string.replace(s,'')\n",
    "print(string1)"
   ]
  },
  {
   "cell_type": "code",
   "execution_count": 10,
   "id": "573351a5",
   "metadata": {},
   "outputs": [
    {
     "name": "stdout",
     "output_type": "stream",
     "text": [
      "Enter a string:Dhinesh\n",
      "7\n"
     ]
    }
   ],
   "source": [
    "# Program to find the length of string\n",
    "str=input(\"Enter a string:\")\n",
    "print(len(str))"
   ]
  },
  {
   "cell_type": "code",
   "execution_count": 12,
   "id": "75aaf41e",
   "metadata": {},
   "outputs": [
    {
     "name": "stdout",
     "output_type": "stream",
     "text": [
      "Enter a string:Dhines\n",
      "Die\n"
     ]
    }
   ],
   "source": [
    "# Program to print even letters in a string\n",
    "str=input(\"Enter a string:\")\n",
    "print(str[::2])"
   ]
  },
  {
   "cell_type": "code",
   "execution_count": 13,
   "id": "c9565af7",
   "metadata": {},
   "outputs": [
    {
     "name": "stdout",
     "output_type": "stream",
     "text": [
      "Length of the tuple is : 10\n"
     ]
    }
   ],
   "source": [
    "# Program to find the size of the tuple\n",
    "tuple=(1,2,3,4,5,6,7,8,9,10)\n",
    "n= len(tuple)\n",
    "print(\"Length of the tuple is :\",n)"
   ]
  },
  {
   "cell_type": "code",
   "execution_count": 14,
   "id": "770e85db",
   "metadata": {},
   "outputs": [
    {
     "name": "stdout",
     "output_type": "stream",
     "text": [
      "Maximum element : 10\n",
      "Minimum element : 1\n"
     ]
    }
   ],
   "source": [
    "# Program to find minimum and maximum element in a tuple\n",
    "tuple=(1,2,3,4,5,6,7,8,9,10)\n",
    "a=max(tuple)\n",
    "b=min(tuple)\n",
    "print(\"Maximum element :\",a)\n",
    "print(\"Minimum element :\",b)"
   ]
  },
  {
   "cell_type": "code",
   "execution_count": 15,
   "id": "663c9e62",
   "metadata": {},
   "outputs": [
    {
     "name": "stdout",
     "output_type": "stream",
     "text": [
      "Sum of tuple elements: 55\n"
     ]
    }
   ],
   "source": [
    "# Program sum of tuple\n",
    "tuple=(1,2,3,4,5,6,7,8,9,10)\n",
    "sum = 0\n",
    "for i in tuple:\n",
    "    sum+= i\n",
    "print(\"Sum of tuple elements:\",sum)"
   ]
  },
  {
   "cell_type": "code",
   "execution_count": 16,
   "id": "511cc999",
   "metadata": {},
   "outputs": [
    {
     "name": "stdout",
     "output_type": "stream",
     "text": [
      "10\n"
     ]
    }
   ],
   "source": [
    "# Program for row wise element addition in tuple matrix\n",
    "var=10\n",
    "for i in range(10):\n",
    "    for j in range(2,10,1):\n",
    "        if var%2==0:\n",
    "            continue\n",
    "            var+=1\n",
    "            var+=1\n",
    "        else:\n",
    "            var+=1\n",
    "print(var)"
   ]
  },
  {
   "cell_type": "code",
   "execution_count": 20,
   "id": "023a40b6",
   "metadata": {},
   "outputs": [
    {
     "name": "stdout",
     "output_type": "stream",
     "text": [
      "[(1, 1), (2, 8), (3, 27), (4, 64), (5, 125)]\n"
     ]
    }
   ],
   "source": [
    "# Create a list of tuples from given list having numbet and its cube in each tuple\n",
    "def create_tuples(numbers):\n",
    "    tuples = [(num, num ** 3) for num in numbers]\n",
    "    return tuples\n",
    "list = [1,2,3,4,5]\n",
    "result = create_tuples(list)\n",
    "print(result)"
   ]
  }
 ],
 "metadata": {
  "kernelspec": {
   "display_name": "Python 3 (ipykernel)",
   "language": "python",
   "name": "python3"
  },
  "language_info": {
   "codemirror_mode": {
    "name": "ipython",
    "version": 3
   },
   "file_extension": ".py",
   "mimetype": "text/x-python",
   "name": "python",
   "nbconvert_exporter": "python",
   "pygments_lexer": "ipython3",
   "version": "3.10.9"
  }
 },
 "nbformat": 4,
 "nbformat_minor": 5
}
